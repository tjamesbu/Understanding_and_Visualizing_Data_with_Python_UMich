{
 "cells": [
  {
   "cell_type": "markdown",
   "metadata": {},
   "source": [
    "### What is Jupyter Notebooks?\n",
    "\n",
    "Jupyter is a web-based interactive development environment that supports multiple programming languages, however most commonly used with the Python programming language.\n",
    "\n",
    "The interactive environment that Jupyter provides enables students, scientists, and researchers to create reproducible analysis and formulate a story within a single document.\n",
    "\n",
    "Lets take a look at an example of a completed Jupyter Notebook: [Example Notebook](http://nbviewer.jupyter.org/github/cossatot/lanf_earthquake_likelihood/blob/master/notebooks/lanf_manuscript_notebook.ipynb)"
   ]
  },
  {
   "cell_type": "markdown",
   "metadata": {},
   "source": [
    "### Jupyter Notebook Features\n",
    "\n",
    "* File Browser\n",
    "* Markdown Cells & Syntax\n",
    "* Kernels, Variables, & Environment\n",
    "* Command vs. Edit Mode & Shortcuts"
   ]
  },
  {
   "cell_type": "markdown",
   "metadata": {},
   "source": [
    "### What is Markdown?\n",
    "\n",
    "Markdown is a markup language that uses plain text formatting syntax.  This means that we can modify the formatting our text with the use of various symbols on our keyboard as indicators.\n",
    "\n",
    "Some examples include:\n",
    "\n",
    "* Headers\n",
    "* Text modifications such as italics and bold\n",
    "* Ordered and Unordered lists\n",
    "* Links\n",
    "* Tables\n",
    "* Images\n",
    "* Etc.\n",
    "\n",
    "Now I'll showcase some examples of how this formatting is done:"
   ]
  },
  {
   "cell_type": "markdown",
   "metadata": {},
   "source": [
    "Headers:\n",
    "\n",
    "# H1\n",
    "## H2\n",
    "### H3\n",
    "#### H4\n",
    "##### H5\n",
    "###### H6"
   ]
  },
  {
   "cell_type": "markdown",
   "metadata": {},
   "source": [
    "Text modifications:\n",
    "\n",
    "Emphasis, aka italics, with *asterisks* or _underscores_.\n",
    "\n",
    "Strong emphasis, aka bold, with **asterisks** or __underscores__.\n",
    "\n",
    "Combined emphasis with **asterisks and _underscores_**.\n",
    "\n",
    "Strikethrough uses two tildes. ~~Scratch this.~~"
   ]
  },
  {
   "cell_type": "markdown",
   "metadata": {},
   "source": [
    "Lists:\n",
    "\n",
    "1. First ordered list item\n",
    "2. Another item\n",
    "  * Unordered sub-list. \n",
    "1. Actual numbers don't matter, just that it's a number\n",
    "  1. Ordered sub-list\n",
    "4. And another item.\n",
    "\n",
    "* Unordered list can use asterisks\n",
    "- Or minuses\n",
    "+ Or pluses"
   ]
  },
  {
   "cell_type": "markdown",
   "metadata": {},
   "source": [
    "Links:\n",
    "\n",
    "http://www.umich.edu\n",
    "\n",
    "<http://www.umich.edu>\n",
    "\n",
    "[The University of Michigan's Homepage](www.http://umich.edu/)\n",
    "\n",
    "To look into more examples of Markdown syntax and features such as tables, images, etc. head to the following link: [Markdown Reference](https://github.com/adam-p/markdown-here/wiki/Markdown-Cheatsheet)"
   ]
  },
  {
   "cell_type": "markdown",
   "metadata": {},
   "source": [
    "### Kernels, Variables, and Environment\n",
    "\n",
    "A notebook kernel is a “computational engine” that executes the code contained in a Notebook document. There are kernels for various programming languages, however we are solely using the python kernel which executes python code.\n",
    "\n",
    "When a notebook is opened, the associated kernel is automatically launched for our convenience."
   ]
  },
  {
   "cell_type": "code",
   "execution_count": 3,
   "metadata": {},
   "outputs": [
    {
     "name": "stdout",
     "output_type": "stream",
     "text": [
      "Requirement already up-to-date: jupyterhub in /opt/conda/lib/python3.6/site-packages (1.3.0)\n",
      "Requirement already satisfied, skipping upgrade: pamela; sys_platform != \"win32\" in /opt/conda/lib/python3.6/site-packages (from jupyterhub) (0.3.0)\n",
      "Requirement already satisfied, skipping upgrade: alembic in /opt/conda/lib/python3.6/site-packages (from jupyterhub) (0.9.9)\n",
      "Requirement already satisfied, skipping upgrade: requests in /opt/conda/lib/python3.6/site-packages (from jupyterhub) (2.19.1)\n",
      "Requirement already satisfied, skipping upgrade: tornado>=5.1 in /opt/conda/lib/python3.6/site-packages (from jupyterhub) (5.1)\n",
      "Requirement already satisfied, skipping upgrade: async-generator>=1.9 in /opt/conda/lib/python3.6/site-packages (from jupyterhub) (1.10)\n",
      "Requirement already satisfied, skipping upgrade: certipy>=0.1.2 in /opt/conda/lib/python3.6/site-packages (from jupyterhub) (0.1.3)\n",
      "Requirement already satisfied, skipping upgrade: prometheus-client>=0.4.0 in /opt/conda/lib/python3.6/site-packages (from jupyterhub) (0.9.0)\n",
      "Requirement already satisfied, skipping upgrade: traitlets>=4.3.2 in /opt/conda/lib/python3.6/site-packages (from jupyterhub) (4.3.2)\n",
      "Requirement already satisfied, skipping upgrade: jinja2>=2.11.0 in /opt/conda/lib/python3.6/site-packages (from jupyterhub) (2.11.3)\n",
      "Requirement already satisfied, skipping upgrade: oauthlib>=3.0 in /opt/conda/lib/python3.6/site-packages (from jupyterhub) (3.1.0)\n",
      "Requirement already satisfied, skipping upgrade: entrypoints in /opt/conda/lib/python3.6/site-packages (from jupyterhub) (0.2.3)\n",
      "Requirement already satisfied, skipping upgrade: jupyter-telemetry>=0.1.0 in /opt/conda/lib/python3.6/site-packages (from jupyterhub) (0.1.0)\n",
      "Requirement already satisfied, skipping upgrade: SQLAlchemy>=1.1 in /opt/conda/lib/python3.6/site-packages (from jupyterhub) (1.2.11)\n",
      "Requirement already satisfied, skipping upgrade: python-dateutil in /opt/conda/lib/python3.6/site-packages (from jupyterhub) (2.7.3)\n",
      "Requirement already satisfied, skipping upgrade: Mako in /opt/conda/lib/python3.6/site-packages (from alembic->jupyterhub) (1.0.7)\n",
      "Requirement already satisfied, skipping upgrade: python-editor>=0.3 in /opt/conda/lib/python3.6/site-packages (from alembic->jupyterhub) (1.0.3)\n",
      "Requirement already satisfied, skipping upgrade: chardet<3.1.0,>=3.0.2 in /opt/conda/lib/python3.6/site-packages (from requests->jupyterhub) (3.0.4)\n",
      "Requirement already satisfied, skipping upgrade: idna<2.8,>=2.5 in /opt/conda/lib/python3.6/site-packages (from requests->jupyterhub) (2.7)\n",
      "Requirement already satisfied, skipping upgrade: urllib3<1.24,>=1.21.1 in /opt/conda/lib/python3.6/site-packages (from requests->jupyterhub) (1.23)\n",
      "Requirement already satisfied, skipping upgrade: certifi>=2017.4.17 in /opt/conda/lib/python3.6/site-packages (from requests->jupyterhub) (2018.11.29)\n",
      "Requirement already satisfied, skipping upgrade: pyopenssl in /opt/conda/lib/python3.6/site-packages (from certipy>=0.1.2->jupyterhub) (18.0.0)\n",
      "Requirement already satisfied, skipping upgrade: six in /opt/conda/lib/python3.6/site-packages (from traitlets>=4.3.2->jupyterhub) (1.11.0)\n",
      "Requirement already satisfied, skipping upgrade: ipython-genutils in /opt/conda/lib/python3.6/site-packages (from traitlets>=4.3.2->jupyterhub) (0.2.0)\n",
      "Requirement already satisfied, skipping upgrade: decorator in /opt/conda/lib/python3.6/site-packages (from traitlets>=4.3.2->jupyterhub) (4.3.0)\n",
      "Requirement already satisfied, skipping upgrade: MarkupSafe>=0.23 in /opt/conda/lib/python3.6/site-packages (from jinja2>=2.11.0->jupyterhub) (1.0)\n",
      "Requirement already satisfied, skipping upgrade: ruamel.yaml in /opt/conda/lib/python3.6/site-packages (from jupyter-telemetry>=0.1.0->jupyterhub) (0.16.13)\n",
      "Requirement already satisfied, skipping upgrade: python-json-logger in /opt/conda/lib/python3.6/site-packages (from jupyter-telemetry>=0.1.0->jupyterhub) (2.0.1)\n",
      "Requirement already satisfied, skipping upgrade: jsonschema in /opt/conda/lib/python3.6/site-packages (from jupyter-telemetry>=0.1.0->jupyterhub) (2.6.0)\n",
      "Requirement already satisfied, skipping upgrade: cryptography>=2.2.1 in /opt/conda/lib/python3.6/site-packages (from pyopenssl->certipy>=0.1.2->jupyterhub) (2.2.1)\n",
      "Requirement already satisfied, skipping upgrade: ruamel.yaml.clib>=0.1.2; platform_python_implementation == \"CPython\" and python_version < \"3.10\" in /opt/conda/lib/python3.6/site-packages (from ruamel.yaml->jupyter-telemetry>=0.1.0->jupyterhub) (0.2.2)\n",
      "Requirement already satisfied, skipping upgrade: asn1crypto>=0.21.0 in /opt/conda/lib/python3.6/site-packages (from cryptography>=2.2.1->pyopenssl->certipy>=0.1.2->jupyterhub) (0.24.0)\n",
      "Requirement already satisfied, skipping upgrade: cffi>=1.7 in /opt/conda/lib/python3.6/site-packages (from cryptography>=2.2.1->pyopenssl->certipy>=0.1.2->jupyterhub) (1.11.5)\n",
      "Requirement already satisfied, skipping upgrade: pycparser in /opt/conda/lib/python3.6/site-packages (from cffi>=1.7->cryptography>=2.2.1->pyopenssl->certipy>=0.1.2->jupyterhub) (2.18)\n",
      "\u001b[33mYou are using pip version 19.0.3, however version 21.0.1 is available.\n",
      "You should consider upgrading via the 'pip install --upgrade pip' command.\u001b[0m\n",
      "Requirement already up-to-date: nbconvert in /home/jovyan/.local/lib/python3.6/site-packages (6.0.7)\n",
      "Requirement already satisfied, skipping upgrade: mistune<2,>=0.8.1 in /opt/conda/lib/python3.6/site-packages (from nbconvert) (0.8.3)\n",
      "Requirement already satisfied, skipping upgrade: entrypoints>=0.2.2 in /opt/conda/lib/python3.6/site-packages (from nbconvert) (0.2.3)\n",
      "Requirement already satisfied, skipping upgrade: traitlets>=4.2 in /opt/conda/lib/python3.6/site-packages (from nbconvert) (4.3.2)\n",
      "Requirement already satisfied, skipping upgrade: pygments>=2.4.1 in /home/jovyan/.local/lib/python3.6/site-packages (from nbconvert) (2.8.1)\n",
      "Requirement already satisfied, skipping upgrade: jinja2>=2.4 in /opt/conda/lib/python3.6/site-packages (from nbconvert) (2.11.3)\n",
      "Requirement already satisfied, skipping upgrade: defusedxml in /home/jovyan/.local/lib/python3.6/site-packages (from nbconvert) (0.7.1)\n",
      "Requirement already satisfied, skipping upgrade: nbformat>=4.4 in /opt/conda/lib/python3.6/site-packages (from nbconvert) (4.4.0)\n",
      "Requirement already satisfied, skipping upgrade: jupyterlab-pygments in /home/jovyan/.local/lib/python3.6/site-packages (from nbconvert) (0.1.2)\n",
      "Requirement already satisfied, skipping upgrade: jupyter-core in /opt/conda/lib/python3.6/site-packages (from nbconvert) (4.4.0)\n",
      "Requirement already satisfied, skipping upgrade: bleach in /opt/conda/lib/python3.6/site-packages (from nbconvert) (1.5.0)\n",
      "Requirement already satisfied, skipping upgrade: testpath in /opt/conda/lib/python3.6/site-packages (from nbconvert) (0.3.1)\n",
      "Requirement already satisfied, skipping upgrade: nbclient<0.6.0,>=0.5.0 in /home/jovyan/.local/lib/python3.6/site-packages (from nbconvert) (0.5.3)\n",
      "Requirement already satisfied, skipping upgrade: pandocfilters>=1.4.1 in /opt/conda/lib/python3.6/site-packages (from nbconvert) (1.4.2)\n",
      "Requirement already satisfied, skipping upgrade: decorator in /opt/conda/lib/python3.6/site-packages (from traitlets>=4.2->nbconvert) (4.3.0)\n",
      "Requirement already satisfied, skipping upgrade: ipython-genutils in /opt/conda/lib/python3.6/site-packages (from traitlets>=4.2->nbconvert) (0.2.0)\n",
      "Requirement already satisfied, skipping upgrade: six in /opt/conda/lib/python3.6/site-packages (from traitlets>=4.2->nbconvert) (1.11.0)\n",
      "Requirement already satisfied, skipping upgrade: MarkupSafe>=0.23 in /opt/conda/lib/python3.6/site-packages (from jinja2>=2.4->nbconvert) (1.0)\n",
      "Requirement already satisfied, skipping upgrade: jsonschema!=2.5.0,>=2.4 in /opt/conda/lib/python3.6/site-packages (from nbformat>=4.4->nbconvert) (2.6.0)\n",
      "Requirement already satisfied, skipping upgrade: html5lib!=0.9999,!=0.99999,<0.99999999,>=0.999 in /opt/conda/lib/python3.6/site-packages (from bleach->nbconvert) (0.9999999)\n",
      "Requirement already satisfied, skipping upgrade: async-generator in /opt/conda/lib/python3.6/site-packages (from nbclient<0.6.0,>=0.5.0->nbconvert) (1.10)\n",
      "Requirement already satisfied, skipping upgrade: jupyter-client>=6.1.5 in /home/jovyan/.local/lib/python3.6/site-packages (from nbclient<0.6.0,>=0.5.0->nbconvert) (6.1.11)\n"
     ]
    },
    {
     "name": "stdout",
     "output_type": "stream",
     "text": [
      "Requirement already satisfied, skipping upgrade: nest-asyncio in /home/jovyan/.local/lib/python3.6/site-packages (from nbclient<0.6.0,>=0.5.0->nbconvert) (1.5.1)\n",
      "Requirement already satisfied, skipping upgrade: python-dateutil>=2.1 in /opt/conda/lib/python3.6/site-packages (from jupyter-client>=6.1.5->nbclient<0.6.0,>=0.5.0->nbconvert) (2.7.3)\n",
      "Requirement already satisfied, skipping upgrade: tornado>=4.1 in /opt/conda/lib/python3.6/site-packages (from jupyter-client>=6.1.5->nbclient<0.6.0,>=0.5.0->nbconvert) (5.1)\n",
      "Requirement already satisfied, skipping upgrade: pyzmq>=13 in /opt/conda/lib/python3.6/site-packages (from jupyter-client>=6.1.5->nbclient<0.6.0,>=0.5.0->nbconvert) (17.1.2)\n",
      "\u001b[33mYou are using pip version 19.0.3, however version 21.0.1 is available.\n",
      "You should consider upgrading via the 'pip install --upgrade pip' command.\u001b[0m\n",
      "Collecting pip\n",
      "\u001b[?25l  Downloading https://files.pythonhosted.org/packages/fe/ef/60d7ba03b5c442309ef42e7d69959f73aacccd0d86008362a681c4698e83/pip-21.0.1-py3-none-any.whl (1.5MB)\n",
      "\u001b[K    100% |████████████████████████████████| 1.5MB 20.9MB/s ta 0:00:01\n",
      "\u001b[?25hInstalling collected packages: pip\n",
      "  Found existing installation: pip 19.0.3\n",
      "    Uninstalling pip-19.0.3:\n",
      "      Successfully uninstalled pip-19.0.3\n",
      "\u001b[31mCould not install packages due to an EnvironmentError: [Errno 1] Operation not permitted: '/opt/conda/lib/python3.6/site-packages/~ip-19.0.3.dist-info/entry_points.txt'\n",
      "\u001b[0m\n",
      "This is a python code cell\n"
     ]
    }
   ],
   "source": [
    "!pip install --upgrade jupyterhub\n",
    "\n",
    "\n",
    "!pip install --upgrade --user nbconvert\n",
    "!pip install --upgrade pip\n",
    "### This is python\n",
    "print(\"This is a python code cell\")"
   ]
  },
  {
   "cell_type": "markdown",
   "metadata": {},
   "source": [
    "A kernel is the back-end of our notebook which not only executes our python code, but stores our initialized variables."
   ]
  },
  {
   "cell_type": "code",
   "execution_count": 2,
   "metadata": {},
   "outputs": [
    {
     "name": "stdout",
     "output_type": "stream",
     "text": [
      "x has been set to 1738\n"
     ]
    }
   ],
   "source": [
    "### For example, lets initialize variable x\n",
    "\n",
    "x = 1738\n",
    "\n",
    "print(\"x has been set to \" + str(x))"
   ]
  },
  {
   "cell_type": "code",
   "execution_count": 3,
   "metadata": {},
   "outputs": [
    {
     "name": "stdout",
     "output_type": "stream",
     "text": [
      "1738\n"
     ]
    }
   ],
   "source": [
    "### Print x\n",
    "\n",
    "print(x)"
   ]
  },
  {
   "cell_type": "markdown",
   "metadata": {},
   "source": [
    "Issues arrise when we restart our kernel and attempt to run code with variables that have not been reinitialized.\n",
    "\n",
    "If the kernel is reset, make sure to rerun code where variables are intialized."
   ]
  },
  {
   "cell_type": "code",
   "execution_count": 4,
   "metadata": {},
   "outputs": [
    {
     "name": "stdout",
     "output_type": "stream",
     "text": [
      "What is your name? Tom\n",
      "The name you entered is Tom\n"
     ]
    }
   ],
   "source": [
    "## We can also run code that accepts input\n",
    "\n",
    "name = input(\"What is your name? \")\n",
    "\n",
    "print(\"The name you entered is \" + name)"
   ]
  },
  {
   "cell_type": "markdown",
   "metadata": {},
   "source": [
    "It is important to note that Jupyter Notebooks have in-line cell execution.  This means that a prior executing cell must complete its operations prior to another cell being executed.  A cell still being executing is indicated by the [*] on the left-hand side of the cell."
   ]
  },
  {
   "cell_type": "code",
   "execution_count": 5,
   "metadata": {},
   "outputs": [
    {
     "name": "stdout",
     "output_type": "stream",
     "text": [
      "This won't print until all prior cells have finished executing.\n"
     ]
    }
   ],
   "source": [
    "print(\"This won't print until all prior cells have finished executing.\")"
   ]
  },
  {
   "cell_type": "markdown",
   "metadata": {},
   "source": [
    "### Command vs. Edit Mode & Shortcuts\n",
    "\n",
    "There is an edit and a command mode for jupyter notebooks.  The mode is easily identifiable by the color of the left border of the cell.\n",
    "\n",
    "Blue = Command Mode.\n",
    "\n",
    "Green = Edit Mode.\n",
    "\n",
    "Command Mode can be toggled by pressing **esc** on your keyboard.\n",
    "\n",
    "Commands can be used to execute notebook functions.  For example, changing the format of a markdown cell or adding line numbers.\n",
    "\n",
    "Lets toggle line numbers while in command mode by pressing **L**.\n",
    "\n",
    "#### Additional Shortcuts\n",
    "\n",
    "There are a lot of shortcuts that can be used to improve productivity while using Jupyter Notebooks.\n",
    "\n",
    "Here is a list:\n",
    "\n",
    "![Jupyter Notebook Shortcuts](img/shortcuts.png)"
   ]
  },
  {
   "cell_type": "markdown",
   "metadata": {},
   "source": [
    "### How do you install Jupyter Notebooks?\n",
    "\n",
    "**Note:** *Coursera provides embedded jupyter notebooks within the course, thus the download is not a requirement unless you wish to explore jupyter further on your own computer.*\n",
    "\n",
    "Official Installation Guide: https://jupyter.readthedocs.io/en/latest/install.html\n",
    "\n",
    "Jupyter recommends utilizing Anaconda, which is a platform compatible with Windows, macOS, and Linux systems.  \n",
    "\n",
    "Anaconda Download: https://www.anaconda.com/download/#macos"
   ]
  }
 ],
 "metadata": {
  "kernelspec": {
   "display_name": "Python 3",
   "language": "python",
   "name": "python3"
  },
  "language_info": {
   "codemirror_mode": {
    "name": "ipython",
    "version": 3
   },
   "file_extension": ".py",
   "mimetype": "text/x-python",
   "name": "python",
   "nbconvert_exporter": "python",
   "pygments_lexer": "ipython3",
   "version": "3.6.3"
  }
 },
 "nbformat": 4,
 "nbformat_minor": 2
}
